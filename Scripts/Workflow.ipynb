{
 "cells": [
  {
   "cell_type": "markdown",
   "id": "5a7ce20b",
   "metadata": {},
   "source": [
    "---\n",
    "title: \"Chemotion-Viz\"\n",
    "author: \"Florian Schmidt\"\n",
    "output:\n",
    "  html_document:\n",
    "    df_print: paged\n",
    "---\n",
    "Aufgabe ist es aus der Chemotion Repository (https://www.chemotion-repository.net/welcome) alle bisher hinterlegten Substanzen zu klassifizieren und eine deskriptive Statistik des erhaltenen Datensatzes anzufertigen. Hierzu wird im Folgendem das verwendete R-Script beschrieben.\n",
    "Zunächst wird ein R-Skript mit den benötigten Helfer-Funktionen eingelesen, in der benötigte Funktionen ausgelagert werden, um die Vignette übersichtlicher zu gestalten."
   ]
  },
  {
   "cell_type": "code",
   "execution_count": null,
   "id": "86f6e7b2",
   "metadata": {},
   "outputs": [],
   "source": [
    "%%R\n",
    "source(\"../Scripts/viz-helper.R\")"
   ]
  },
  {
   "cell_type": "markdown",
   "id": "010e5e1a",
   "metadata": {},
   "source": [
    "Die benötigten Pakete müssen geladen werden:"
   ]
  },
  {
   "cell_type": "code",
   "execution_count": null,
   "id": "d6b17498",
   "metadata": {},
   "outputs": [],
   "source": [
    "%%R\n",
    "library(readr)\n",
    "library(rinchi)\n",
    "library(magrittr)\n",
    "library(classyfireR)\n",
    "library(plyr)\n",
    "library(dplyr)\n",
    "library(sunburstR)\n",
    "library(Rcpp)\n",
    "library(rcdk)\n",
    "library(ggplot2)\n",
    "library(plotly)\n",
    "library(metfRag)"
   ]
  },
  {
   "cell_type": "markdown",
   "id": "cd648a29",
   "metadata": {},
   "source": [
    "Die canonical smiles der Substanzen aus der Chemotion Repository (https://www.chemotion-repository.net/welcome) können als XLSX-Datei heruntergeladen werden. Hierfür muss ein Account auf der Homepage der Chemotion Repository angelegt werden. Unter dem Reiter \"My DB\" können unter \"Chemotion\" alle bisher eingetragenen Substanzen markiert und dann als XLSX-Datei exportiert werden. \n",
    "In der heruntergeladenen XLSX-Datei befinden sich anschließend noch Duplikate, sowie Lösungsmittel (solvents) und Reaktionspartner (reactants). Nach Entfernung dieser Substanzen wird die XLSX-Datei in eine CSV-Datei konvertiert und kann dann in R eingelesen werden."
   ]
  },
  {
   "cell_type": "code",
   "execution_count": null,
   "id": "95a745b3",
   "metadata": {},
   "outputs": [],
   "source": [
    "%%R\n",
    "smiles <- as.character(read.csv(\"../Data/sample_export_16.03.2021_8.12_noDup.csv\")[ ,5])\n",
    "head(smiles,3)"
   ]
  },
  {
   "cell_type": "markdown",
   "id": "48220a3e",
   "metadata": {},
   "source": [
    "Mit dem Paket \"rinchi\" (https://rdrr.io/github/CDK-R/rinchi/man/getinchi.html#heading-0) werden nun die canonical smiles in InChikeys konvertiert, damit diese zur Klassifizierung notwenig sind."
   ]
  },
  {
   "cell_type": "code",
   "execution_count": null,
   "id": "6abe8487",
   "metadata": {},
   "outputs": [],
   "source": [
    "%%R\n",
    "inchikey <-sapply(smiles, get.inchi.key)"
   ]
  },
  {
   "cell_type": "markdown",
   "id": "4f11aa37",
   "metadata": {},
   "source": [
    "Im nächsten Schritt werden die InChiKeys verwendet, um eine Klassifizierung der Substanzen durchzuführen. Die Klassifizierung erfolgt mit dem Paket \"classyfireR\" (https://github.com/aberHRML/classyfireR). Die Funktion \"get_classification\" erzeugt eine Klassifizierungsliste (JSON-Objekt). In dieser wird für jede Substanz ein Objekt welches Listen mit Tibbles enthält angelegt. Aus diesem Objekt können dann zum Beispiel Metadaten und die Klassifizierungstabelle ausgelesen werden (siehe folgende Ausgabe, Objekt 1). Für Substanzen die nicht klassifiziert werden konnten wird ein Objekt vom Typ \"NULL\" erzeugt (siehe folgende Ausgabe, Objekt 2+3)."
   ]
  },
  {
   "cell_type": "code",
   "execution_count": null,
   "id": "006fbee4",
   "metadata": {},
   "outputs": [],
   "source": [
    "%%R\n",
    "Classification_List <- sapply(inchikey, get_classification)\n",
    "head(Classification_List,3)"
   ]
  },
  {
   "cell_type": "markdown",
   "id": "984f752d",
   "metadata": {},
   "source": [
    "Das erhaltene JSON Objekt aus ClassyfierR muss so formatiert werden, dass am Ende ein Datenframe mit der hierarischen Klassifizierung der Substanzen ausgestattet ist. Hierzu wurde eine Funktion classyfire2df() geschrieben, die als Eingabe die Classification_List und als Ausgabe einen Datenframe hat:"
   ]
  },
  {
   "cell_type": "code",
   "execution_count": null,
   "id": "13dce75b",
   "metadata": {},
   "outputs": [],
   "source": [
    "%%R\n",
    "class <- vector(\"character\", length(Classification_List[]))\n",
    "df <- classyfire2df()\n",
    "df"
   ]
  },
  {
   "cell_type": "markdown",
   "id": "047804c9",
   "metadata": {},
   "source": [
    "Anzahl der zu klassifizierenden Substanzen aus der Chemotion Repository (Größe des Datensatzes):\n",
    "\n",
    "\n",
    "In dem erzeugten Dataframe stehen in den Spalten der jeweilige Klassifizierungsgrad und in den Reihen die jeweilige Substanz. Im ersten Schritt wird eine neue Spalte \"classes\" erzeugt, in der alle Spalten mit den Klassifizierungsgraden einer Substanz zusammengefasst werden und mit einem Semikolon getrennt werden. Im nächsten Schritt werden alle SPalten, außer die \"classes\"-Spalte gelöscht und die hierarisch angelegten Substanzklassen nach Anzahl aufsummiert. Klassifizierungsgrade, die in ihrem Namen einen Bindestrich haben, werden im folgenden Sunburst-Plot nicht richtig geplotted, deshalb werden die Bindestriche in Unterstriche umgewandelt."
   ]
  },
  {
   "cell_type": "code",
   "execution_count": null,
   "id": "36179566",
   "metadata": {},
   "outputs": [],
   "source": [
    "%%R\n",
    "df$classes <- gsub('; NA','', paste(df$\"1\",df$\"2\",df$\"3\", df$\"4\", df$\"5\", df$\"6\", df$\"7\",df$\"8\" ,sep = \"; \"))\n",
    "df <-ddply(df,.(classes),summarize, count=length(classes) )\n",
    "df <- df[-1, ] \n",
    "df$classes <- gsub('-','_',df$classes)\n",
    "df$classes <- gsub(';','-',df$classes)"
   ]
  },
  {
   "cell_type": "markdown",
   "id": "0cec87b2",
   "metadata": {},
   "source": [
    "Anzahl der erfolgreich klassifizierten Substanzen aus der Chemotion Repository:\n",
    "\n",
    "\n",
    "Mithilfe dieses Data Frames kann die Darstellung des Klassifizierungslevel \"class\" aller klassifizierten Substanzen prozentual als Sunburst-Plot erfolgen. Die Erstellung des Sunburst Plots erfolgte mit dem Paket \"sunburstR\" (https://github.com/timelyportfolio/sunburstR)"
   ]
  },
  {
   "cell_type": "code",
   "execution_count": null,
   "id": "d65af23d",
   "metadata": {},
   "outputs": [],
   "source": [
    "%%R\n",
    "sunburst(df, legend = FALSE)"
   ]
  },
  {
   "cell_type": "markdown",
   "id": "cb48ce44",
   "metadata": {},
   "source": [
    "Neben der Darstellung der prozentualen Anteile der Substanzklassen können mithilfe des Paketes \"rcdk\" (https://cran.r-project.org/web/packages/rcdk/index.html) die molaren Massen der Substanzen aus den canonical smiles berechnet werden. Der erstellte Dataframe zeigt die ersten drei Substanzen aus dem Datensatz mit der jeweiligen exakten molaren Masse [g/mol] an."
   ]
  },
  {
   "cell_type": "code",
   "execution_count": null,
   "id": "dcf5442b",
   "metadata": {},
   "outputs": [],
   "source": [
    "%%R\n",
    "substance_mass <- sapply(smiles, smiles2mass)\n",
    "df_mass <- data.frame(substance_mass)\n",
    "mass <- data.frame(substance= row.names(df_mass), df_mass, row.names=NULL)\n",
    "head(mass,3)"
   ]
  },
  {
   "cell_type": "markdown",
   "id": "949fdc63",
   "metadata": {},
   "source": [
    "Mit dem Paket \"ggplot2\" (https://www.rdocumentation.org/packages/ggplot2/versions/3.3.3) kann ein Histogramm der molaren Massen erstellt werden und mit dem Paket \"ggplotly\" (https://www.rdocumentation.org/packages/plotly/versions/4.9.3/topics/ggplotly) wird der erstellte Plot interaktiv nutzbar:"
   ]
  },
  {
   "cell_type": "code",
   "execution_count": null,
   "id": "46b47a86",
   "metadata": {},
   "outputs": [],
   "source": [
    "%%R\n",
    "histogram <- ggplot(mass,aes(substance_mass))+\n",
    "  geom_histogram(binwidth=20,color=\"darkblue\", fill=\"lightblue\")+\n",
    "  labs(title=\"Histogram plot: Molar mass vs count\",x=\"Exact mass (g/mol)\", y = \"Count\")\n",
    "\n",
    "ggplotly(histogram)"
   ]
  },
  {
   "cell_type": "markdown",
   "id": "c5f5a526",
   "metadata": {},
   "source": [
    "Weiterhin kann ein hierarchischen Clusterings der Substanzen mit dem Paket 'metfRag'(https://github.com/ipb-halle/MetFragR) dargestellt werden. Diese Darstellung zeigt das Cluster von den Substanzen nach strukturellen Ähnlichkeiten:"
   ]
  },
  {
   "cell_type": "code",
   "execution_count": null,
   "id": "7371295e",
   "metadata": {},
   "outputs": [],
   "source": [
    "%%R\n",
    "mols <- parse.smiles(smiles)\n",
    "dummy <- mapply(set.property, mols, \"Score\", c(1:2343))\n",
    "plotCluster(mols, h=0.2)"
   ]
  }
 ],
 "metadata": {},
 "nbformat": 4,
 "nbformat_minor": 5
}
